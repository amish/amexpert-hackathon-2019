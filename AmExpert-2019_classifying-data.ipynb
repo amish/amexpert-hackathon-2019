{
 "cells": [
  {
   "cell_type": "code",
   "execution_count": 1,
   "metadata": {},
   "outputs": [],
   "source": [
    "import pandas as pd\n",
    "import numpy as np\n",
    "from sklearn.model_selection import train_test_split\n",
    "from sklearn.metrics import confusion_matrix, roc_curve, auc, roc_auc_score, precision_recall_curve, accuracy_score, f1_score\n",
    "from matplotlib import pyplot\n",
    "from sklearn.linear_model import LogisticRegression, LogisticRegressionCV\n",
    "from sklearn.ensemble import RandomForestRegressor\n",
    "%matplotlib inline"
   ]
  },
  {
   "cell_type": "code",
   "execution_count": 2,
   "metadata": {},
   "outputs": [],
   "source": [
    "train = pd.DataFrame(pd.read_csv('training_data.csv'))\n",
    "test = pd.DataFrame(pd.read_csv('testing_data.csv'))"
   ]
  },
  {
   "cell_type": "code",
   "execution_count": 3,
   "metadata": {
    "scrolled": true
   },
   "outputs": [
    {
     "data": {
      "text/plain": [
       "Index(['id', 'campaign_id', 'coupon_id', 'customer_id', 'redemption_status',\n",
       "       'date_diff', 'campaign_type_X', 'campaign_type_Y', 'type_Established',\n",
       "       'type_Local', 'brand_small', 'brand_medium', 'brand_large',\n",
       "       'cat_others', 'cat_pharmaceutical', 'cat_grocery', 'item_id',\n",
       "       'quantity', 'selling_price', 'other_discount', 'coupon_discount',\n",
       "       'dayofmonth', 'weekend', 'total_discount', 'cost_price',\n",
       "       'percent_discount', 'coupon_disc_bin', 'marital_status', 'rented',\n",
       "       'family_size', 'age', 'children_bin', 'lower', 'middle', 'upper',\n",
       "       'childless', 'nuclear', 'extended'],\n",
       "      dtype='object')"
      ]
     },
     "execution_count": 3,
     "metadata": {},
     "output_type": "execute_result"
    }
   ],
   "source": [
    "train.columns"
   ]
  },
  {
   "cell_type": "code",
   "execution_count": 4,
   "metadata": {},
   "outputs": [],
   "source": [
    "columns_drop = ['id','redemption_status']\n",
    "\n",
    "X = train.drop(columns=columns_drop)\n",
    "y = train['redemption_status']\n",
    "Xtest = test.drop(columns=columns_drop)"
   ]
  },
  {
   "cell_type": "code",
   "execution_count": 5,
   "metadata": {},
   "outputs": [
    {
     "data": {
      "text/plain": [
       "((78369, 36), (78369,), (50226, 36))"
      ]
     },
     "execution_count": 5,
     "metadata": {},
     "output_type": "execute_result"
    }
   ],
   "source": [
    "X.shape, y.shape, Xtest.shape"
   ]
  },
  {
   "cell_type": "code",
   "execution_count": 6,
   "metadata": {},
   "outputs": [],
   "source": [
    "X_train, X_test, y_train, y_test = train_test_split(X, y, test_size=0.33, random_state=42)"
   ]
  },
  {
   "cell_type": "code",
   "execution_count": 7,
   "metadata": {},
   "outputs": [],
   "source": [
    "ns_probs = [0 for i in range(len(y_test))]"
   ]
  },
  {
   "cell_type": "code",
   "execution_count": 9,
   "metadata": {
    "scrolled": true
   },
   "outputs": [
    {
     "name": "stderr",
     "output_type": "stream",
     "text": [
      "c:\\users\\hitman\\appdata\\local\\programs\\python\\python37\\lib\\site-packages\\sklearn\\utils\\optimize.py:203: ConvergenceWarning: newton-cg failed to converge. Increase the number of iterations.\n",
      "  \"number of iterations.\", ConvergenceWarning)\n"
     ]
    },
    {
     "data": {
      "text/plain": [
       "LogisticRegression(C=1.0, class_weight='balanced', dual=False,\n",
       "                   fit_intercept=True, intercept_scaling=1, l1_ratio=None,\n",
       "                   max_iter=100, multi_class='warn', n_jobs=None, penalty='l2',\n",
       "                   random_state=None, solver='newton-cg', tol=0.0001, verbose=0,\n",
       "                   warm_start=False)"
      ]
     },
     "execution_count": 9,
     "metadata": {},
     "output_type": "execute_result"
    }
   ],
   "source": [
    "#clf = LogisticRegression(cv=5, random_state=0, max_iter=100)\n",
    "clf = LogisticRegression(solver='newton-cg', class_weight='balanced')\n",
    "clf.fit(X_train, y_train)"
   ]
  },
  {
   "cell_type": "code",
   "execution_count": 10,
   "metadata": {},
   "outputs": [
    {
     "data": {
      "text/plain": [
       "0.8024901399737066"
      ]
     },
     "execution_count": 10,
     "metadata": {},
     "output_type": "execute_result"
    }
   ],
   "source": [
    "clf.score(X_test, y_test)"
   ]
  },
  {
   "cell_type": "code",
   "execution_count": 11,
   "metadata": {},
   "outputs": [],
   "source": [
    "lr_probs = clf.predict_proba(X_test)"
   ]
  },
  {
   "cell_type": "code",
   "execution_count": 12,
   "metadata": {},
   "outputs": [
    {
     "name": "stdout",
     "output_type": "stream",
     "text": [
      "No Skill: ROC AUC=0.500\n",
      "Logistic: ROC AUC=0.843\n"
     ]
    },
    {
     "data": {
      "image/png": "[encoded data removed]",
      "text/plain": [
       "<Figure size 432x288 with 1 Axes>"
      ]
     },
     "metadata": {
      "needs_background": "light"
     },
     "output_type": "display_data"
    }
   ],
   "source": [
    "lr_prob = lr_probs[:, 1]\n",
    "\n",
    "ns_auc = roc_auc_score(y_test, ns_probs)\n",
    "lr_auc = roc_auc_score(y_test, lr_prob)\n",
    "\n",
    "print('No Skill: ROC AUC=%.3f' % (ns_auc))\n",
    "print('Logistic: ROC AUC=%.3f' % (lr_auc))\n",
    "\n",
    "ns_fpr, ns_tpr, ns_threshold = roc_curve(y_test, ns_probs)\n",
    "lr_fpr, lr_tpr, lr_threshold = roc_curve(y_test, lr_prob)\n",
    "\n",
    "pyplot.plot(ns_fpr, ns_tpr, linestyle='--', label='No Skill')\n",
    "pyplot.plot(lr_fpr, lr_tpr, marker='.', label='Logistic')\n",
    "\n",
    "pyplot.xlabel('False Positive Rate')\n",
    "pyplot.ylabel('True Positive Rate')\n",
    "\n",
    "pyplot.legend()\n",
    "pyplot.show()"
   ]
  },
  {
   "cell_type": "code",
   "execution_count": 13,
   "metadata": {},
   "outputs": [
    {
     "data": {
      "text/plain": [
       "0.8024901399737066"
      ]
     },
     "execution_count": 13,
     "metadata": {},
     "output_type": "execute_result"
    }
   ],
   "source": [
    "y_pred = clf.predict(X_test)\n",
    "accuracy_score(y_test, y_pred)"
   ]
  },
  {
   "cell_type": "code",
   "execution_count": 14,
   "metadata": {
    "scrolled": true
   },
   "outputs": [
    {
     "data": {
      "text/plain": [
       "array([[20595,  5056],\n",
       "       [   52,   159]], dtype=int64)"
      ]
     },
     "execution_count": 14,
     "metadata": {},
     "output_type": "execute_result"
    }
   ],
   "source": [
    "confusion_matrix(y_test, y_pred)"
   ]
  },
  {
   "cell_type": "code",
   "execution_count": 15,
   "metadata": {
    "scrolled": true
   },
   "outputs": [
    {
     "name": "stderr",
     "output_type": "stream",
     "text": [
      "c:\\users\\hitman\\appdata\\local\\programs\\python\\python37\\lib\\site-packages\\sklearn\\metrics\\classification.py:1437: UndefinedMetricWarning: F-score is ill-defined and being set to 0.0 due to no predicted samples.\n",
      "  'precision', 'predicted', average, warn_for)\n"
     ]
    },
    {
     "name": "stdout",
     "output_type": "stream",
     "text": [
      "No Skill: f1=0.000 auc=0.504\n",
      "Logistic: f1=0.059 auc=0.048\n"
     ]
    },
    {
     "data": {
      "image/png": "[encoded data removed]",
      "text/plain": [
       "<Figure size 432x288 with 1 Axes>"
      ]
     },
     "metadata": {
      "needs_background": "light"
     },
     "output_type": "display_data"
    }
   ],
   "source": [
    "# Precision Recall curve\n",
    "no_skill_probs = [0 for i in range(len(y_test))]\n",
    "log_res_probs = clf.predict_proba(X_test)\n",
    "\n",
    "log_res_prob = log_res_probs[:, 1]\n",
    "y_pred = clf.predict(X_test)\n",
    "\n",
    "ns_precision, ns_recall, no_skill_threshold = precision_recall_curve(y_test, no_skill_probs)\n",
    "lr_precision, lr_recall, log_res_threshold = precision_recall_curve(y_test, log_res_prob)\n",
    "\n",
    "ns_f1, ns_auc = f1_score(y_test, no_skill_probs), auc(ns_recall, ns_precision)\n",
    "lr_f1, lr_auc = f1_score(y_test, y_pred), auc(lr_recall, lr_precision)\n",
    "\n",
    "print('No Skill: f1=%.3f auc=%.3f' % (ns_f1, ns_auc))\n",
    "print('Logistic: f1=%.3f auc=%.3f' % (lr_f1, lr_auc))\n",
    "\n",
    "pyplot.plot(ns_recall, ns_precision, linestyle='--', label='No Skill')\n",
    "pyplot.plot(lr_recall, lr_precision, marker='.', label='Logistic')\n",
    "\n",
    "pyplot.xlabel('Recall')\n",
    "pyplot.ylabel('Precision')\n",
    "\n",
    "pyplot.legend()\n",
    "pyplot.show()"
   ]
  },
  {
   "cell_type": "code",
   "execution_count": 39,
   "metadata": {},
   "outputs": [
    {
     "name": "stdout",
     "output_type": "stream",
     "text": [
      "Training until validation scores don't improve for 100 rounds.\n",
      "[200]\ttraining's auc: 0.999484\ttraining's binary_logloss: 0.0116857\tvalid_1's auc: 0.92827\tvalid_1's binary_logloss: 0.0347905\n",
      "Early stopping, best iteration is:\n",
      "[125]\ttraining's auc: 0.997864\ttraining's binary_logloss: 0.0160314\tvalid_1's auc: 0.929888\tvalid_1's binary_logloss: 0.0339216\n"
     ]
    },
    {
     "data": {
      "text/plain": [
       "LGBMClassifier(bagging_fraction=1.0, boosting_type='gbdt', class_weight=None,\n",
       "               colsample_bytree=0.5, importance_type='split', learning_rate=0.1,\n",
       "               max_depth=-1, min_child_samples=20, min_child_weight=0.001,\n",
       "               min_split_gain=0.0, n_estimators=1500, n_jobs=-1, num_leaves=31,\n",
       "               objective=None, random_state=None, reg_alpha=0.2, reg_lambda=0.0,\n",
       "               silent=True, subsample=1.0, subsample_for_bin=200000,\n",
       "               subsample_freq=0)"
      ]
     },
     "execution_count": 39,
     "metadata": {},
     "output_type": "execute_result"
    }
   ],
   "source": [
    "# LGBM\n",
    "from lightgbm import LGBMClassifier\n",
    "\n",
    "lgbm_clf = LGBMClassifier(n_estimators=1500, reg_alpha=0.2,\n",
    "                         colsample_bytree=0.5, bagging_fraction=1.0)\n",
    "lgbm_clf.fit(X_train, y_train,\n",
    "            eval_set=[(X_train, y_train), (X_test, y_test.values)],\n",
    "            eval_metric='auc', early_stopping_rounds=100, verbose=200)"
   ]
  },
  {
   "cell_type": "code",
   "execution_count": 29,
   "metadata": {},
   "outputs": [
    {
     "name": "stdout",
     "output_type": "stream",
     "text": [
      "0.9298881763430045\n"
     ]
    }
   ],
   "source": [
    "lgbm_p = lgbm_clf.predict_proba(X_test)[:,-1]\n",
    "print(roc_auc_score(y_test, lgbm_p))"
   ]
  },
  {
   "cell_type": "code",
   "execution_count": 30,
   "metadata": {},
   "outputs": [
    {
     "data": {
      "text/plain": [
       "array([215, 647, 237, 146,  15,  20,  24,   7,  25,  20,   6,  10,  22,\n",
       "        41, 243, 238, 212, 250, 348, 174,  19, 193, 193, 208,   1,  26,\n",
       "        15,  87,  52,   6,   9,  19,   0,  10,   7,   5])"
      ]
     },
     "execution_count": 30,
     "metadata": {},
     "output_type": "execute_result"
    }
   ],
   "source": [
    "lgbm_clf.feature_importances_"
   ]
  },
  {
   "cell_type": "code",
   "execution_count": 33,
   "metadata": {
    "scrolled": true
   },
   "outputs": [
    {
     "data": {
      "text/plain": [
       "array([[25616,    35],\n",
       "       [  198,    13]], dtype=int64)"
      ]
     },
     "execution_count": 33,
     "metadata": {},
     "output_type": "execute_result"
    }
   ],
   "source": [
    "confusion_matrix(y_test, lgbm_p>0.5)"
   ]
  },
  {
   "cell_type": "code",
   "execution_count": 37,
   "metadata": {
    "scrolled": false
   },
   "outputs": [
    {
     "data": {
      "text/plain": [
       "[(647, 'coupon_id'),\n",
       " (348, 'coupon_discount'),\n",
       " (250, 'other_discount'),\n",
       " (243, 'item_id'),\n",
       " (238, 'quantity'),\n",
       " (237, 'customer_id'),\n",
       " (215, 'campaign_id'),\n",
       " (212, 'selling_price'),\n",
       " (208, 'percent_discount'),\n",
       " (193, 'total_discount'),\n",
       " (193, 'cost_price'),\n",
       " (174, 'dayofmonth'),\n",
       " (146, 'date_diff'),\n",
       " (87, 'family_size'),\n",
       " (52, 'age'),\n",
       " (41, 'cat_grocery'),\n",
       " (26, 'marital_status'),\n",
       " (25, 'brand_small'),\n",
       " (24, 'type_Established'),\n",
       " (22, 'cat_pharmaceutical'),\n",
       " (20, 'campaign_type_Y'),\n",
       " (20, 'brand_medium'),\n",
       " (19, 'weekend'),\n",
       " (19, 'middle'),\n",
       " (15, 'rented'),\n",
       " (15, 'campaign_type_X'),\n",
       " (10, 'childless'),\n",
       " (10, 'cat_others'),\n",
       " (9, 'lower'),\n",
       " (7, 'type_Local'),\n",
       " (7, 'nuclear'),\n",
       " (6, 'children_bin'),\n",
       " (6, 'brand_large'),\n",
       " (5, 'extended'),\n",
       " (1, 'coupon_disc_bin'),\n",
       " (0, 'upper')]"
      ]
     },
     "execution_count": 37,
     "metadata": {},
     "output_type": "execute_result"
    }
   ],
   "source": [
    "sorted(zip(lgbm_clf.feature_importances_, X_train), reverse=True)"
   ]
  },
  {
   "cell_type": "code",
   "execution_count": 80,
   "metadata": {
    "scrolled": true
   },
   "outputs": [
    {
     "name": "stdout",
     "output_type": "stream",
     "text": [
      "Training until validation scores don't improve for 200 rounds.\n",
      "[200]\ttraining's auc: 0.992077\ttraining's binary_logloss: 0.0231331\tvalid_1's auc: 0.921468\tvalid_1's binary_logloss: 0.0367421\n",
      "[400]\ttraining's auc: 0.996933\ttraining's binary_logloss: 0.017861\tvalid_1's auc: 0.923299\tvalid_1's binary_logloss: 0.0367658\n",
      "Early stopping, best iteration is:\n",
      "[232]\ttraining's auc: 0.993225\ttraining's binary_logloss: 0.0220692\tvalid_1's auc: 0.922404\tvalid_1's binary_logloss: 0.0365967\n",
      "err:  0.9224035414593523\n",
      "Training until validation scores don't improve for 200 rounds.\n",
      "[200]\ttraining's auc: 0.991022\ttraining's binary_logloss: 0.0236229\tvalid_1's auc: 0.935998\tvalid_1's binary_logloss: 0.0352005\n",
      "[400]\ttraining's auc: 0.996644\ttraining's binary_logloss: 0.0181918\tvalid_1's auc: 0.936899\tvalid_1's binary_logloss: 0.0347787\n",
      "Early stopping, best iteration is:\n",
      "[254]\ttraining's auc: 0.993101\ttraining's binary_logloss: 0.0219303\tvalid_1's auc: 0.937385\tvalid_1's binary_logloss: 0.0348434\n",
      "err:  0.9373848743410048\n",
      "Training until validation scores don't improve for 200 rounds.\n",
      "[200]\ttraining's auc: 0.991359\ttraining's binary_logloss: 0.0235895\tvalid_1's auc: 0.948713\tvalid_1's binary_logloss: 0.0335772\n",
      "[400]\ttraining's auc: 0.996556\ttraining's binary_logloss: 0.0183106\tvalid_1's auc: 0.950937\tvalid_1's binary_logloss: 0.0323603\n",
      "[600]\ttraining's auc: 0.998577\ttraining's binary_logloss: 0.0148394\tvalid_1's auc: 0.951163\tvalid_1's binary_logloss: 0.0318512\n",
      "Early stopping, best iteration is:\n",
      "[510]\ttraining's auc: 0.997899\ttraining's binary_logloss: 0.0162494\tvalid_1's auc: 0.951683\tvalid_1's binary_logloss: 0.0319641\n",
      "err:  0.9516833929693068\n",
      "Training until validation scores don't improve for 200 rounds.\n",
      "[200]\ttraining's auc: 0.991137\ttraining's binary_logloss: 0.0236749\tvalid_1's auc: 0.949849\tvalid_1's binary_logloss: 0.0337971\n",
      "[400]\ttraining's auc: 0.996645\ttraining's binary_logloss: 0.0183112\tvalid_1's auc: 0.952409\tvalid_1's binary_logloss: 0.0330165\n",
      "[600]\ttraining's auc: 0.998523\ttraining's binary_logloss: 0.0150136\tvalid_1's auc: 0.952641\tvalid_1's binary_logloss: 0.0331157\n",
      "Early stopping, best iteration is:\n",
      "[427]\ttraining's auc: 0.997014\ttraining's binary_logloss: 0.0177987\tvalid_1's auc: 0.952911\tvalid_1's binary_logloss: 0.0329686\n",
      "err:  0.9529105178096307\n",
      "Training until validation scores don't improve for 200 rounds.\n",
      "[200]\ttraining's auc: 0.991545\ttraining's binary_logloss: 0.0234927\tvalid_1's auc: 0.927419\tvalid_1's binary_logloss: 0.0368178\n",
      "[400]\ttraining's auc: 0.996781\ttraining's binary_logloss: 0.0180272\tvalid_1's auc: 0.930512\tvalid_1's binary_logloss: 0.0363407\n",
      "Early stopping, best iteration is:\n",
      "[344]\ttraining's auc: 0.995765\ttraining's binary_logloss: 0.01934\tvalid_1's auc: 0.93132\tvalid_1's binary_logloss: 0.0361337\n",
      "err:  0.9313198252560112\n",
      "Training until validation scores don't improve for 200 rounds.\n",
      "[200]\ttraining's auc: 0.991165\ttraining's binary_logloss: 0.0235508\tvalid_1's auc: 0.937088\tvalid_1's binary_logloss: 0.035389\n",
      "Early stopping, best iteration is:\n",
      "[124]\ttraining's auc: 0.984352\ttraining's binary_logloss: 0.0269212\tvalid_1's auc: 0.938401\tvalid_1's binary_logloss: 0.0359057\n",
      "err:  0.9384011560204103\n",
      "Training until validation scores don't improve for 200 rounds.\n",
      "[200]\ttraining's auc: 0.991478\ttraining's binary_logloss: 0.0231698\tvalid_1's auc: 0.908497\tvalid_1's binary_logloss: 0.0389981\n",
      "[400]\ttraining's auc: 0.996822\ttraining's binary_logloss: 0.017795\tvalid_1's auc: 0.914799\tvalid_1's binary_logloss: 0.0389004\n",
      "Early stopping, best iteration is:\n",
      "[347]\ttraining's auc: 0.995931\ttraining's binary_logloss: 0.0189702\tvalid_1's auc: 0.914593\tvalid_1's binary_logloss: 0.0387572\n",
      "err:  0.9145926404268383\n",
      "Training until validation scores don't improve for 200 rounds.\n",
      "[200]\ttraining's auc: 0.991019\ttraining's binary_logloss: 0.0235816\tvalid_1's auc: 0.953743\tvalid_1's binary_logloss: 0.0331725\n",
      "[400]\ttraining's auc: 0.996674\ttraining's binary_logloss: 0.0180902\tvalid_1's auc: 0.955982\tvalid_1's binary_logloss: 0.0316068\n",
      "[600]\ttraining's auc: 0.998628\ttraining's binary_logloss: 0.0147769\tvalid_1's auc: 0.957286\tvalid_1's binary_logloss: 0.0310167\n",
      "[800]\ttraining's auc: 0.999423\ttraining's binary_logloss: 0.0123256\tvalid_1's auc: 0.957253\tvalid_1's binary_logloss: 0.0309866\n",
      "Early stopping, best iteration is:\n",
      "[701]\ttraining's auc: 0.999059\ttraining's binary_logloss: 0.0135568\tvalid_1's auc: 0.957759\tvalid_1's binary_logloss: 0.030875\n",
      "err:  0.9577590283217943\n",
      "Training until validation scores don't improve for 200 rounds.\n",
      "[200]\ttraining's auc: 0.99156\ttraining's binary_logloss: 0.023298\tvalid_1's auc: 0.94558\tvalid_1's binary_logloss: 0.0342875\n",
      "[400]\ttraining's auc: 0.996791\ttraining's binary_logloss: 0.0180146\tvalid_1's auc: 0.949179\tvalid_1's binary_logloss: 0.0336724\n",
      "[600]\ttraining's auc: 0.998515\ttraining's binary_logloss: 0.0147804\tvalid_1's auc: 0.95032\tvalid_1's binary_logloss: 0.03381\n",
      "Early stopping, best iteration is:\n",
      "[432]\ttraining's auc: 0.997176\ttraining's binary_logloss: 0.0174387\tvalid_1's auc: 0.950079\tvalid_1's binary_logloss: 0.0335882\n",
      "err:  0.9500786912550373\n",
      "Training until validation scores don't improve for 200 rounds.\n",
      "[200]\ttraining's auc: 0.991861\ttraining's binary_logloss: 0.0234276\tvalid_1's auc: 0.935704\tvalid_1's binary_logloss: 0.0348914\n",
      "[400]\ttraining's auc: 0.996691\ttraining's binary_logloss: 0.018171\tvalid_1's auc: 0.934083\tvalid_1's binary_logloss: 0.035024\n",
      "Early stopping, best iteration is:\n",
      "[254]\ttraining's auc: 0.993709\ttraining's binary_logloss: 0.0217422\tvalid_1's auc: 0.936511\tvalid_1's binary_logloss: 0.0347467\n",
      "err:  0.936510747610052\n"
     ]
    }
   ],
   "source": [
    "err=[]\n",
    "y_pred_tot=[]\n",
    "\n",
    "feature_importance_df = pd.DataFrame()\n",
    "\n",
    "from sklearn.model_selection import KFold,StratifiedKFold\n",
    "fold=StratifiedKFold(n_splits=10,shuffle=True,random_state=1996)\n",
    "i=1\n",
    "for train_index, test_index in fold.split(X,y):\n",
    "    X_train, X_test = X.iloc[train_index], X.iloc[test_index]\n",
    "    y_train, y_test = y[train_index], y[test_index]\n",
    "    m=LGBMClassifier(n_estimators=5000,random_state=1996,learning_rate=0.03,reg_alpha=0.2,colsample_bytree=0.5)\n",
    "    m.fit(X_train,y_train,eval_set=[(X_train,y_train),(X_test, y_test)],eval_metric='auc', early_stopping_rounds=200,verbose=200)\n",
    "    \n",
    "    preds=m.predict_proba(X_test,num_iteration=m.best_iteration_)[:,-1]\n",
    "    \n",
    "    fold_importance_df = pd.DataFrame()\n",
    "    fold_importance_df[\"feature\"] = X_train.columns\n",
    "    fold_importance_df[\"importance\"] = m.feature_importances_\n",
    "    fold_importance_df[\"fold\"] = i + 1\n",
    "    feature_importance_df = pd.concat([feature_importance_df, fold_importance_df], axis=0)\n",
    "    \n",
    "    \n",
    "    print(\"err: \",roc_auc_score(y_test,preds))\n",
    "    err.append(roc_auc_score(y_test,preds))\n",
    "    p = m.predict_proba(Xtest)[:,-1]\n",
    "    i=i+1\n",
    "    y_pred_tot.append(p)"
   ]
  },
  {
   "cell_type": "code",
   "execution_count": 81,
   "metadata": {},
   "outputs": [
    {
     "data": {
      "text/plain": [
       "0.9393044415469438"
      ]
     },
     "execution_count": 81,
     "metadata": {},
     "output_type": "execute_result"
    }
   ],
   "source": [
    "np.mean(err,0)"
   ]
  },
  {
   "cell_type": "code",
   "execution_count": 85,
   "metadata": {
    "scrolled": true
   },
   "outputs": [
    {
     "data": {
      "text/html": [
       "<div>\n",
       "<style scoped>\n",
       "    .dataframe tbody tr th:only-of-type {\n",
       "        vertical-align: middle;\n",
       "    }\n",
       "\n",
       "    .dataframe tbody tr th {\n",
       "        vertical-align: top;\n",
       "    }\n",
       "\n",
       "    .dataframe thead th {\n",
       "        text-align: right;\n",
       "    }\n",
       "</style>\n",
       "<table border=\"1\" class=\"dataframe\">\n",
       "  <thead>\n",
       "    <tr style=\"text-align: right;\">\n",
       "      <th></th>\n",
       "      <th>id</th>\n",
       "      <th>redemption_status</th>\n",
       "    </tr>\n",
       "  </thead>\n",
       "  <tbody>\n",
       "    <tr>\n",
       "      <th>0</th>\n",
       "      <td>3</td>\n",
       "      <td>0.038404</td>\n",
       "    </tr>\n",
       "    <tr>\n",
       "      <th>1</th>\n",
       "      <td>4</td>\n",
       "      <td>0.002581</td>\n",
       "    </tr>\n",
       "    <tr>\n",
       "      <th>2</th>\n",
       "      <td>5</td>\n",
       "      <td>0.180510</td>\n",
       "    </tr>\n",
       "    <tr>\n",
       "      <th>3</th>\n",
       "      <td>8</td>\n",
       "      <td>0.000175</td>\n",
       "    </tr>\n",
       "    <tr>\n",
       "      <th>4</th>\n",
       "      <td>10</td>\n",
       "      <td>0.000291</td>\n",
       "    </tr>\n",
       "  </tbody>\n",
       "</table>\n",
       "</div>"
      ],
      "text/plain": [
       "   id  redemption_status\n",
       "0   3           0.038404\n",
       "1   4           0.002581\n",
       "2   5           0.180510\n",
       "3   8           0.000175\n",
       "4  10           0.000291"
      ]
     },
     "execution_count": 85,
     "metadata": {},
     "output_type": "execute_result"
    }
   ],
   "source": [
    "sub = pd.DataFrame()\n",
    "sub['id'] = test['id']\n",
    "sub['redemption_status']=np.mean(y_pred_tot,0)\n",
    "sub.head()"
   ]
  },
  {
   "cell_type": "code",
   "execution_count": 86,
   "metadata": {},
   "outputs": [],
   "source": [
    "sub.to_csv('lgbmsub.csv', index = False)"
   ]
  },
  {
   "cell_type": "code",
   "execution_count": null,
   "metadata": {},
   "outputs": [],
   "source": [
    "# use class weights during training\n",
    "# smote\n",
    "# undersampling\n",
    "# oversampling\n"
   ]
  },
  {
   "cell_type": "code",
   "execution_count": null,
   "metadata": {},
   "outputs": [],
   "source": [
    "#submission = pd.DataFrame()\n",
    "#submission['id'] = test['id']\n",
    "#submission['redemption_status'] = y_pred\n",
    "#submission.to_csv('RFRsub.csv', index = False)"
   ]
  },
  {
   "cell_type": "code",
   "execution_count": null,
   "metadata": {},
   "outputs": [],
   "source": []
  }
 ],
 "metadata": {
  "kernelspec": {
   "display_name": "Python 3",
   "language": "python",
   "name": "python3"
  },
  "language_info": {
   "codemirror_mode": {
    "name": "ipython",
    "version": 3
   },
   "file_extension": ".py",
   "mimetype": "text/x-python",
   "name": "python",
   "nbconvert_exporter": "python",
   "pygments_lexer": "ipython3",
   "version": "3.7.3"
  }
 },
 "nbformat": 4,
 "nbformat_minor": 2
}
